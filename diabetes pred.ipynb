{
 "cells": [
  {
   "cell_type": "code",
   "execution_count": 1,
   "metadata": {},
   "outputs": [
    {
     "name": "stdout",
     "output_type": "stream",
     "text": [
      "[1 0 1 0 1 0 1 0 1 1 0 1 0 1 1 1 1 1 0 1 0 0 1 1 1 1 1 0 0 0 0 1 0 0 0 0 0\n",
      " 1 1 1 0 0 0 1 0 1 0 0 1 0 0 0 0 1 0 0 1 0 0 0 0 1 0 0 1 0 1 0 0 0 1 0 1 0\n",
      " 0 0 0 0 1 0 0 0 0 0 1 0 0 0 1 0 0 0 0 1 0 0 0 0 0 1 1 0 0 0 0 0 0 0 0 1 1\n",
      " 1 0 0 1 1 1 0 0 0 1 0 0 0 1 1 0 0 1 1 1 1 1 0 0 0 0 0 0 0 0 0 0 1 0 0 0 0\n",
      " 0 0 0 0 1 0 1 1 0 0 0 1 0 0 0 0 1 1 0 0 0 0 1 1 0 0 0 1 0 1 0 1 0 0 0 0 0\n",
      " 1 1 1 1 1 0 0 1 1 0 1 0 1 1 1 0 0 0 0 0 0 1 1 0 1 0 0 0 1 1 1 1 0 1 1 1 1\n",
      " 0 0 0 0 0 1 0 0 1 1 0 0 0 1 1 1 1 0 0 0 1 1 0 1 0 0 0 0 0 0 0 0 1 1 0 0 0\n",
      " 1 0 1 0 0 1 0 1 0 0 1 1 0 0 0 0 0 1 0 0 0 1 0 0 1 1 0 0 1 0 0 0 1 1 1 0 0\n",
      " 1 0 1 0 1 1 0 1 0 0 1 0 1 1 0 0 1 0 1 0 0 1 0 1 0 1 1 1 0 0 1 0 1 0 0 0 1\n",
      " 0 0 0 0 1 1 1 0 0 0 0 0 0 0 0 0 1 0 0 0 0 0 1 1 1 0 1 1 0 0 1 0 0 1 0 0 1\n",
      " 1 0 0 0 0 1 0 0 1 0 0 0 0 0 0 0 1 1 1 0 0 1 0 0 1 0 0 1 0 1 1 0 1 0 1 0 1\n",
      " 0 1 1 0 0 0 0 1 1 0 1 0 1 0 0 0 0 1 1 0 1 0 1 0 0 0 0 0 1 0 0 0 0 1 0 0 1\n",
      " 1 1 0 0 1 0 0 1 0 0 0 1 0 0 1 0 0 0 0 0 0 0 0 0 1 0 0 0 0 0 0 0 1 0 0 0 1\n",
      " 0 0 0 1 1 0 0 0 0 0 0 0 1 0 0 0 0 1 0 0 0 1 0 0 0 1 0 0 0 1 0 0 0 0 1 1 0\n",
      " 0 0 0 0 0 1 0 0 0 0 0 0 0 0 0 0 0 1 0]\n"
     ]
    }
   ],
   "source": [
    "import pandas as pd\n",
    "import matplotlib.pyplot as plot\n",
    "import numpy as np\n",
    "df=pd.read_csv(r\"C:\\Users\\HP\\Desktop\\DATASETS\\diabetes.csv\")\n",
    "#print(df)\n",
    "data=df.values\n",
    "x_train=data[:int(0.7*data.shape[0]),:8]\n",
    "y_train=data[:int(0.7*data.shape[0]),8].astype('int32')\n",
    "print(y_train)\n",
    "x_test=data[int(0.7*data.shape[0]): , :8]\n",
    "#y_test=data[int(0.7*data.shape[0]): , 8]\n"
   ]
  },
  {
   "cell_type": "code",
   "execution_count": 2,
   "metadata": {},
   "outputs": [
    {
     "name": "stdout",
     "output_type": "stream",
     "text": [
      "['Diabetic' 'Non-Diabetic' 'Diabetic' 'Non-Diabetic' 'Diabetic'\n",
      " 'Non-Diabetic' 'Diabetic' 'Non-Diabetic' 'Diabetic' 'Diabetic'\n",
      " 'Non-Diabetic' 'Diabetic' 'Non-Diabetic' 'Diabetic' 'Diabetic' 'Diabetic'\n",
      " 'Diabetic' 'Diabetic' 'Non-Diabetic' 'Diabetic' 'Non-Diabetic'\n",
      " 'Non-Diabetic' 'Diabetic' 'Diabetic' 'Diabetic' 'Diabetic' 'Diabetic'\n",
      " 'Non-Diabetic' 'Non-Diabetic' 'Non-Diabetic' 'Non-Diabetic' 'Diabetic'\n",
      " 'Non-Diabetic' 'Non-Diabetic' 'Non-Diabetic' 'Non-Diabetic'\n",
      " 'Non-Diabetic' 'Diabetic' 'Diabetic' 'Diabetic' 'Non-Diabetic'\n",
      " 'Non-Diabetic' 'Non-Diabetic' 'Diabetic' 'Non-Diabetic' 'Diabetic'\n",
      " 'Non-Diabetic' 'Non-Diabetic' 'Diabetic' 'Non-Diabetic' 'Non-Diabetic'\n",
      " 'Non-Diabetic' 'Non-Diabetic' 'Diabetic' 'Non-Diabetic' 'Non-Diabetic'\n",
      " 'Diabetic' 'Non-Diabetic' 'Non-Diabetic' 'Non-Diabetic' 'Non-Diabetic'\n",
      " 'Diabetic' 'Non-Diabetic' 'Non-Diabetic' 'Diabetic' 'Non-Diabetic'\n",
      " 'Diabetic' 'Non-Diabetic' 'Non-Diabetic' 'Non-Diabetic' 'Diabetic'\n",
      " 'Non-Diabetic' 'Diabetic' 'Non-Diabetic' 'Non-Diabetic' 'Non-Diabetic'\n",
      " 'Non-Diabetic' 'Non-Diabetic' 'Diabetic' 'Non-Diabetic' 'Non-Diabetic'\n",
      " 'Non-Diabetic' 'Non-Diabetic' 'Non-Diabetic' 'Diabetic' 'Non-Diabetic'\n",
      " 'Non-Diabetic' 'Non-Diabetic' 'Diabetic' 'Non-Diabetic' 'Non-Diabetic'\n",
      " 'Non-Diabetic' 'Non-Diabetic' 'Diabetic' 'Non-Diabetic' 'Non-Diabetic'\n",
      " 'Non-Diabetic' 'Non-Diabetic' 'Non-Diabetic' 'Diabetic' 'Diabetic'\n",
      " 'Non-Diabetic' 'Non-Diabetic' 'Non-Diabetic' 'Non-Diabetic'\n",
      " 'Non-Diabetic' 'Non-Diabetic' 'Non-Diabetic' 'Non-Diabetic' 'Diabetic'\n",
      " 'Diabetic' 'Diabetic' 'Non-Diabetic' 'Non-Diabetic' 'Diabetic' 'Diabetic'\n",
      " 'Diabetic' 'Non-Diabetic' 'Non-Diabetic' 'Non-Diabetic' 'Diabetic'\n",
      " 'Non-Diabetic' 'Non-Diabetic' 'Non-Diabetic' 'Diabetic' 'Diabetic'\n",
      " 'Non-Diabetic' 'Non-Diabetic' 'Diabetic' 'Diabetic' 'Diabetic' 'Diabetic'\n",
      " 'Diabetic' 'Non-Diabetic' 'Non-Diabetic' 'Non-Diabetic' 'Non-Diabetic'\n",
      " 'Non-Diabetic' 'Non-Diabetic' 'Non-Diabetic' 'Non-Diabetic'\n",
      " 'Non-Diabetic' 'Non-Diabetic' 'Diabetic' 'Non-Diabetic' 'Non-Diabetic'\n",
      " 'Non-Diabetic' 'Non-Diabetic' 'Non-Diabetic' 'Non-Diabetic'\n",
      " 'Non-Diabetic' 'Non-Diabetic' 'Diabetic' 'Non-Diabetic' 'Diabetic'\n",
      " 'Diabetic' 'Non-Diabetic' 'Non-Diabetic' 'Non-Diabetic' 'Diabetic'\n",
      " 'Non-Diabetic' 'Non-Diabetic' 'Non-Diabetic' 'Non-Diabetic' 'Diabetic'\n",
      " 'Diabetic' 'Non-Diabetic' 'Non-Diabetic' 'Non-Diabetic' 'Non-Diabetic'\n",
      " 'Diabetic' 'Diabetic' 'Non-Diabetic' 'Non-Diabetic' 'Non-Diabetic'\n",
      " 'Diabetic' 'Non-Diabetic' 'Diabetic' 'Non-Diabetic' 'Diabetic'\n",
      " 'Non-Diabetic' 'Non-Diabetic' 'Non-Diabetic' 'Non-Diabetic'\n",
      " 'Non-Diabetic' 'Diabetic' 'Diabetic' 'Diabetic' 'Diabetic' 'Diabetic'\n",
      " 'Non-Diabetic' 'Non-Diabetic' 'Diabetic' 'Diabetic' 'Non-Diabetic'\n",
      " 'Diabetic' 'Non-Diabetic' 'Diabetic' 'Diabetic' 'Diabetic' 'Non-Diabetic'\n",
      " 'Non-Diabetic' 'Non-Diabetic' 'Non-Diabetic' 'Non-Diabetic'\n",
      " 'Non-Diabetic' 'Diabetic' 'Diabetic' 'Non-Diabetic' 'Diabetic'\n",
      " 'Non-Diabetic' 'Non-Diabetic' 'Non-Diabetic' 'Diabetic' 'Diabetic'\n",
      " 'Diabetic' 'Diabetic' 'Non-Diabetic' 'Diabetic' 'Diabetic' 'Diabetic'\n",
      " 'Diabetic' 'Non-Diabetic' 'Non-Diabetic' 'Non-Diabetic' 'Non-Diabetic'\n",
      " 'Non-Diabetic' 'Diabetic' 'Non-Diabetic' 'Non-Diabetic' 'Diabetic'\n",
      " 'Diabetic' 'Non-Diabetic' 'Non-Diabetic' 'Non-Diabetic' 'Diabetic'\n",
      " 'Diabetic' 'Diabetic' 'Diabetic' 'Non-Diabetic' 'Non-Diabetic'\n",
      " 'Non-Diabetic' 'Diabetic' 'Diabetic' 'Non-Diabetic' 'Diabetic'\n",
      " 'Non-Diabetic' 'Non-Diabetic' 'Non-Diabetic' 'Non-Diabetic'\n",
      " 'Non-Diabetic' 'Non-Diabetic' 'Non-Diabetic' 'Non-Diabetic' 'Diabetic'\n",
      " 'Diabetic' 'Non-Diabetic' 'Non-Diabetic' 'Non-Diabetic' 'Diabetic'\n",
      " 'Non-Diabetic' 'Diabetic' 'Non-Diabetic' 'Non-Diabetic' 'Diabetic'\n",
      " 'Non-Diabetic' 'Diabetic' 'Non-Diabetic' 'Non-Diabetic' 'Diabetic'\n",
      " 'Diabetic' 'Non-Diabetic' 'Non-Diabetic' 'Non-Diabetic' 'Non-Diabetic'\n",
      " 'Non-Diabetic' 'Diabetic' 'Non-Diabetic' 'Non-Diabetic' 'Non-Diabetic'\n",
      " 'Diabetic' 'Non-Diabetic' 'Non-Diabetic' 'Diabetic' 'Diabetic'\n",
      " 'Non-Diabetic' 'Non-Diabetic' 'Diabetic' 'Non-Diabetic' 'Non-Diabetic'\n",
      " 'Non-Diabetic' 'Diabetic' 'Diabetic' 'Diabetic' 'Non-Diabetic'\n",
      " 'Non-Diabetic' 'Diabetic' 'Non-Diabetic' 'Diabetic' 'Non-Diabetic'\n",
      " 'Diabetic' 'Diabetic' 'Non-Diabetic' 'Diabetic' 'Non-Diabetic'\n",
      " 'Non-Diabetic' 'Diabetic' 'Non-Diabetic' 'Diabetic' 'Diabetic'\n",
      " 'Non-Diabetic' 'Non-Diabetic' 'Diabetic' 'Non-Diabetic' 'Diabetic'\n",
      " 'Non-Diabetic' 'Non-Diabetic' 'Diabetic' 'Non-Diabetic' 'Diabetic'\n",
      " 'Non-Diabetic' 'Diabetic' 'Diabetic' 'Diabetic' 'Non-Diabetic'\n",
      " 'Non-Diabetic' 'Diabetic' 'Non-Diabetic' 'Diabetic' 'Non-Diabetic'\n",
      " 'Non-Diabetic' 'Non-Diabetic' 'Diabetic' 'Non-Diabetic' 'Non-Diabetic'\n",
      " 'Non-Diabetic' 'Non-Diabetic' 'Diabetic' 'Diabetic' 'Diabetic'\n",
      " 'Non-Diabetic' 'Non-Diabetic' 'Non-Diabetic' 'Non-Diabetic'\n",
      " 'Non-Diabetic' 'Non-Diabetic' 'Non-Diabetic' 'Non-Diabetic'\n",
      " 'Non-Diabetic' 'Diabetic' 'Non-Diabetic' 'Non-Diabetic' 'Non-Diabetic'\n",
      " 'Non-Diabetic' 'Non-Diabetic' 'Diabetic' 'Diabetic' 'Diabetic'\n",
      " 'Non-Diabetic' 'Diabetic' 'Diabetic' 'Non-Diabetic' 'Non-Diabetic'\n",
      " 'Diabetic' 'Non-Diabetic' 'Non-Diabetic' 'Diabetic' 'Non-Diabetic'\n",
      " 'Non-Diabetic' 'Diabetic' 'Diabetic' 'Non-Diabetic' 'Non-Diabetic'\n",
      " 'Non-Diabetic' 'Non-Diabetic' 'Diabetic' 'Non-Diabetic' 'Non-Diabetic'\n",
      " 'Diabetic' 'Non-Diabetic' 'Non-Diabetic' 'Non-Diabetic' 'Non-Diabetic'\n",
      " 'Non-Diabetic' 'Non-Diabetic' 'Non-Diabetic' 'Diabetic' 'Diabetic'\n",
      " 'Diabetic' 'Non-Diabetic' 'Non-Diabetic' 'Diabetic' 'Non-Diabetic'\n",
      " 'Non-Diabetic' 'Diabetic' 'Non-Diabetic' 'Non-Diabetic' 'Diabetic'\n",
      " 'Non-Diabetic' 'Diabetic' 'Diabetic' 'Non-Diabetic' 'Diabetic'\n",
      " 'Non-Diabetic' 'Diabetic' 'Non-Diabetic' 'Diabetic' 'Non-Diabetic'\n",
      " 'Diabetic' 'Diabetic' 'Non-Diabetic' 'Non-Diabetic' 'Non-Diabetic'\n",
      " 'Non-Diabetic' 'Diabetic' 'Diabetic' 'Non-Diabetic' 'Diabetic'\n",
      " 'Non-Diabetic' 'Diabetic' 'Non-Diabetic' 'Non-Diabetic' 'Non-Diabetic'\n",
      " 'Non-Diabetic' 'Diabetic' 'Diabetic' 'Non-Diabetic' 'Diabetic'\n",
      " 'Non-Diabetic' 'Diabetic' 'Non-Diabetic' 'Non-Diabetic' 'Non-Diabetic'\n",
      " 'Non-Diabetic' 'Non-Diabetic' 'Diabetic' 'Non-Diabetic' 'Non-Diabetic'\n",
      " 'Non-Diabetic' 'Non-Diabetic' 'Diabetic' 'Non-Diabetic' 'Non-Diabetic'\n",
      " 'Diabetic' 'Diabetic' 'Diabetic' 'Non-Diabetic' 'Non-Diabetic' 'Diabetic'\n",
      " 'Non-Diabetic' 'Non-Diabetic' 'Diabetic' 'Non-Diabetic' 'Non-Diabetic'\n",
      " 'Non-Diabetic' 'Diabetic' 'Non-Diabetic' 'Non-Diabetic' 'Diabetic'\n",
      " 'Non-Diabetic' 'Non-Diabetic' 'Non-Diabetic' 'Non-Diabetic'\n",
      " 'Non-Diabetic' 'Non-Diabetic' 'Non-Diabetic' 'Non-Diabetic'\n",
      " 'Non-Diabetic' 'Diabetic' 'Non-Diabetic' 'Non-Diabetic' 'Non-Diabetic'\n",
      " 'Non-Diabetic' 'Non-Diabetic' 'Non-Diabetic' 'Non-Diabetic' 'Diabetic'\n",
      " 'Non-Diabetic' 'Non-Diabetic' 'Non-Diabetic' 'Diabetic' 'Non-Diabetic'\n",
      " 'Non-Diabetic' 'Non-Diabetic' 'Diabetic' 'Diabetic' 'Non-Diabetic'\n",
      " 'Non-Diabetic' 'Non-Diabetic' 'Non-Diabetic' 'Non-Diabetic'\n",
      " 'Non-Diabetic' 'Non-Diabetic' 'Diabetic' 'Non-Diabetic' 'Non-Diabetic'\n",
      " 'Non-Diabetic' 'Non-Diabetic' 'Diabetic' 'Non-Diabetic' 'Non-Diabetic'\n",
      " 'Non-Diabetic' 'Diabetic' 'Non-Diabetic' 'Non-Diabetic' 'Non-Diabetic'\n",
      " 'Diabetic' 'Non-Diabetic' 'Non-Diabetic' 'Non-Diabetic' 'Diabetic'\n",
      " 'Non-Diabetic' 'Non-Diabetic' 'Non-Diabetic' 'Non-Diabetic' 'Diabetic'\n",
      " 'Diabetic' 'Non-Diabetic' 'Non-Diabetic' 'Non-Diabetic' 'Non-Diabetic'\n",
      " 'Non-Diabetic' 'Non-Diabetic' 'Diabetic' 'Non-Diabetic' 'Non-Diabetic'\n",
      " 'Non-Diabetic' 'Non-Diabetic' 'Non-Diabetic' 'Non-Diabetic'\n",
      " 'Non-Diabetic' 'Non-Diabetic' 'Non-Diabetic' 'Non-Diabetic'\n",
      " 'Non-Diabetic' 'Diabetic' 'Non-Diabetic']\n"
     ]
    }
   ],
   "source": [
    "y_train=np.where(y_train>0 ,'Diabetic','Non-Diabetic')\n",
    "print(y_train)\n",
    "\n"
   ]
  },
  {
   "cell_type": "code",
   "execution_count": 3,
   "metadata": {},
   "outputs": [
    {
     "name": "stdout",
     "output_type": "stream",
     "text": [
      "(array(['Diabetic', 'Non-Diabetic'], dtype=object), array([19, 11]))\n"
     ]
    },
    {
     "data": {
      "text/plain": [
       "'Diabetic'"
      ]
     },
     "execution_count": 3,
     "metadata": {},
     "output_type": "execute_result"
    }
   ],
   "source": [
    "def prediction(x_train,y_train,query):\n",
    "    d=np.sqrt(np.sum((x_train-query)**2,axis=1))\n",
    "    d=d.astype('float32')\n",
    "    d.shape\n",
    "    euc_label_df=pd.DataFrame({'euc_dist':d,'prediction':y_train}).sort_values(by='euc_dist')\n",
    "    euc_label_df\n",
    "\n",
    "    x=np.unique(np.array([euc_label_df['prediction'].head(30)]),return_counts=True)\n",
    "    print(x)\n",
    "    index=x[1].argmax()\n",
    "    prediction=x[0][index]\n",
    "    return prediction\n",
    "prediction(x_train,y_train,x_test[109])"
   ]
  },
  {
   "cell_type": "code",
   "execution_count": 1,
   "metadata": {},
   "outputs": [
    {
     "name": "stdout",
     "output_type": "stream",
     "text": [
      "     Pregnancies  Glucose  BloodPressure  SkinThickness  Insulin   BMI  \\\n",
      "0              6      148             72             35        0  33.6   \n",
      "1              1       85             66             29        0  26.6   \n",
      "2              8      183             64              0        0  23.3   \n",
      "3              1       89             66             23       94  28.1   \n",
      "4              0      137             40             35      168  43.1   \n",
      "..           ...      ...            ...            ...      ...   ...   \n",
      "763           10      101             76             48      180  32.9   \n",
      "764            2      122             70             27        0  36.8   \n",
      "765            5      121             72             23      112  26.2   \n",
      "766            1      126             60              0        0  30.1   \n",
      "767            1       93             70             31        0  30.4   \n",
      "\n",
      "     DiabetesPedigreeFunction  Age  Outcome  \n",
      "0                       0.627   50        1  \n",
      "1                       0.351   31        0  \n",
      "2                       0.672   32        1  \n",
      "3                       0.167   21        0  \n",
      "4                       2.288   33        1  \n",
      "..                        ...  ...      ...  \n",
      "763                     0.171   63        0  \n",
      "764                     0.340   27        0  \n",
      "765                     0.245   30        0  \n",
      "766                     0.349   47        1  \n",
      "767                     0.315   23        0  \n",
      "\n",
      "[768 rows x 9 columns]\n"
     ]
    }
   ],
   "source": [
    "from sklearn.preprocessing\n",
    "import pandas as pd\n",
    "import matplotlib.pyplot as plot\n",
    "import numpy as np\n",
    "from sklearn.LinearModel import logistic_regression\n",
    "df=pd.read_csv(r\"C:\\Users\\HP\\Desktop\\DATASETS\\diabetes.csv\")\n",
    "print(df)"
   ]
  }
 ],
 "metadata": {
  "kernelspec": {
   "display_name": "Python 3",
   "language": "python",
   "name": "python3"
  },
  "language_info": {
   "codemirror_mode": {
    "name": "ipython",
    "version": 3
   },
   "file_extension": ".py",
   "mimetype": "text/x-python",
   "name": "python",
   "nbconvert_exporter": "python",
   "pygments_lexer": "ipython3",
   "version": "3.9.5"
  }
 },
 "nbformat": 4,
 "nbformat_minor": 4
}
